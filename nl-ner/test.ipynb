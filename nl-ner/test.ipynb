{
 "cells": [
  {
   "cell_type": "code",
   "execution_count": 26,
   "metadata": {},
   "outputs": [
    {
     "ename": "FileNotFoundError",
     "evalue": "[Errno 2] No such file or directory: 'c:\\\\Users\\\\school\\\\thesis\\\\code\\\\language-module\\\\nl-ner\\\\auth_key.json'",
     "output_type": "error",
     "traceback": [
      "\u001b[1;31m---------------------------------------------------------------------------\u001b[0m",
      "\u001b[1;31mFileNotFoundError\u001b[0m                         Traceback (most recent call last)",
      "\u001b[1;32mc:\\Users\\school\\thesis\\code\\language-module\\nl-ner\\test.ipynb Cell 1\u001b[0m in \u001b[0;36m1\n\u001b[0;32m     <a href='vscode-notebook-cell:/c%3A/Users/school/thesis/code/language-module/nl-ner/test.ipynb#W0sZmlsZQ%3D%3D?line=10'>11</a>\u001b[0m         key \u001b[39m=\u001b[39m load(f)\n\u001b[0;32m     <a href='vscode-notebook-cell:/c%3A/Users/school/thesis/code/language-module/nl-ner/test.ipynb#W0sZmlsZQ%3D%3D?line=11'>12</a>\u001b[0m     \u001b[39mreturn\u001b[39;00m key[\u001b[39m\"\u001b[39m\u001b[39mauth_key\u001b[39m\u001b[39m\"\u001b[39m]\n\u001b[1;32m---> <a href='vscode-notebook-cell:/c%3A/Users/school/thesis/code/language-module/nl-ner/test.ipynb#W0sZmlsZQ%3D%3D?line=14'>15</a>\u001b[0m auth_token \u001b[39m=\u001b[39m get_auth_key()\n\u001b[0;32m     <a href='vscode-notebook-cell:/c%3A/Users/school/thesis/code/language-module/nl-ner/test.ipynb#W0sZmlsZQ%3D%3D?line=16'>17</a>\u001b[0m dataset \u001b[39m=\u001b[39m datasets\u001b[39m.\u001b[39mload_dataset(\n\u001b[0;32m     <a href='vscode-notebook-cell:/c%3A/Users/school/thesis/code/language-module/nl-ner/test.ipynb#W0sZmlsZQ%3D%3D?line=17'>18</a>\u001b[0m     \u001b[39m\"\u001b[39m\u001b[39mcw1521/en-st-ner-small\u001b[39m\u001b[39m\"\u001b[39m,\n\u001b[0;32m     <a href='vscode-notebook-cell:/c%3A/Users/school/thesis/code/language-module/nl-ner/test.ipynb#W0sZmlsZQ%3D%3D?line=18'>19</a>\u001b[0m     use_auth_token\u001b[39m=\u001b[39mauth_token,\n\u001b[0;32m     <a href='vscode-notebook-cell:/c%3A/Users/school/thesis/code/language-module/nl-ner/test.ipynb#W0sZmlsZQ%3D%3D?line=19'>20</a>\u001b[0m     field\u001b[39m=\u001b[39m\u001b[39m\"\u001b[39m\u001b[39mdata\u001b[39m\u001b[39m\"\u001b[39m\n\u001b[0;32m     <a href='vscode-notebook-cell:/c%3A/Users/school/thesis/code/language-module/nl-ner/test.ipynb#W0sZmlsZQ%3D%3D?line=20'>21</a>\u001b[0m )\n",
      "\u001b[1;32mc:\\Users\\school\\thesis\\code\\language-module\\nl-ner\\test.ipynb Cell 1\u001b[0m in \u001b[0;36m1\n\u001b[0;32m      <a href='vscode-notebook-cell:/c%3A/Users/school/thesis/code/language-module/nl-ner/test.ipynb#W0sZmlsZQ%3D%3D?line=8'>9</a>\u001b[0m \u001b[39mdef\u001b[39;00m \u001b[39mget_auth_key\u001b[39m():\n\u001b[1;32m---> <a href='vscode-notebook-cell:/c%3A/Users/school/thesis/code/language-module/nl-ner/test.ipynb#W0sZmlsZQ%3D%3D?line=9'>10</a>\u001b[0m     \u001b[39mwith\u001b[39;00m \u001b[39mopen\u001b[39;49m(auth_token_path, \u001b[39m\"\u001b[39;49m\u001b[39mr\u001b[39;49m\u001b[39m\"\u001b[39;49m) \u001b[39mas\u001b[39;00m f:\n\u001b[0;32m     <a href='vscode-notebook-cell:/c%3A/Users/school/thesis/code/language-module/nl-ner/test.ipynb#W0sZmlsZQ%3D%3D?line=10'>11</a>\u001b[0m         key \u001b[39m=\u001b[39m load(f)\n\u001b[0;32m     <a href='vscode-notebook-cell:/c%3A/Users/school/thesis/code/language-module/nl-ner/test.ipynb#W0sZmlsZQ%3D%3D?line=11'>12</a>\u001b[0m     \u001b[39mreturn\u001b[39;00m key[\u001b[39m\"\u001b[39m\u001b[39mauth_key\u001b[39m\u001b[39m\"\u001b[39m]\n",
      "\u001b[1;31mFileNotFoundError\u001b[0m: [Errno 2] No such file or directory: 'c:\\\\Users\\\\school\\\\thesis\\\\code\\\\language-module\\\\nl-ner\\\\auth_key.json'"
     ]
    }
   ],
   "source": [
    "import datasets\n",
    "import numpy\n",
    "from json import load\n",
    "from os import getcwd\n",
    "\n",
    "auth_token_path = f\"{getcwd()}\\\\..\\\\auth_key.json\"\n",
    "\n",
    "\n",
    "def get_auth_key():\n",
    "    with open(auth_token_path, \"r\") as f:\n",
    "        key = load(f)\n",
    "    return key[\"auth_key\"]\n",
    "\n",
    "\n",
    "auth_token = get_auth_key()\n",
    "\n",
    "dataset = datasets.load_dataset(\n",
    "    \"cw1521/en-st-ner-small\",\n",
    "    use_auth_token=auth_token,\n",
    "    field=\"data\"\n",
    ")\n"
   ]
  },
  {
   "cell_type": "code",
   "execution_count": 27,
   "metadata": {},
   "outputs": [],
   "source": [
    "ner_id_map = {\n",
    "    \"0\": \"O\",\n",
    "    \"1\": \"L-DEMO\",\n",
    "    \"2\": \"L-BA\",\n",
    "    \"3\": \"V-BA\",\n",
    "    \"4\": \"L-GROUND\",\n",
    "    \"5\": \"L-BALL\",\n",
    "    \"6\": \"L-SPEED\",\n",
    "    \"7\": \"V-SPEED\",\n",
    "    \"8\": \"L-DIR\",\n",
    "    \"9\": \"V-DIR\",\n",
    "    \"10\": \"L-BRAKE\",\n",
    "    \"11\": \"L-STEER\",\n",
    "    \"12\": \"V-STEER\",\n",
    "    \"13\": \"L-THROTTLE\",\n",
    "    \"14\": \"V-THROTTLE\",\n",
    "    \"15\": \"L-BOOST\",\n",
    "    \"16\": \"L-POS\"\n",
    "  }"
   ]
  },
  {
   "cell_type": "code",
   "execution_count": 28,
   "metadata": {},
   "outputs": [],
   "source": [
    "ner_tag_map = {\n",
    "    \"O\": 0,\n",
    "    \"L-DEMO\": 1,\n",
    "    \"L-BA\": 2,\n",
    "    \"V-BA\": 3,\n",
    "    \"L-GROUND\": 4,\n",
    "    \"L-BALL\": 5,\n",
    "    \"L-SPEED\": 6,\n",
    "    \"V-SPEED\": 7,\n",
    "    \"L-DIR\": 8,\n",
    "    \"V-DIR\": 9,\n",
    "    \"L-BRAKE\": 10,\n",
    "    \"L-STEER\": 11,\n",
    "    \"V-STEER\": 12,\n",
    "    \"L-THROTTLE\": 13,\n",
    "    \"V-THROTTLE\": 14,\n",
    "    \"L-BOOST\": 15,\n",
    "    \"L-POS\": 16\n",
    "  }"
   ]
  },
  {
   "cell_type": "code",
   "execution_count": 29,
   "metadata": {},
   "outputs": [
    {
     "name": "stdout",
     "output_type": "stream",
     "text": [
      "DatasetDict({\n",
      "    train: Dataset({\n",
      "        features: ['ner_sentence', 'ner_tags', 'sentence', 'state'],\n",
      "        num_rows: 865330\n",
      "    })\n",
      "    test: Dataset({\n",
      "        features: ['ner_sentence', 'ner_tags', 'sentence', 'state'],\n",
      "        num_rows: 123620\n",
      "    })\n",
      "    validation: Dataset({\n",
      "        features: ['ner_sentence', 'ner_tags', 'sentence', 'state'],\n",
      "        num_rows: 123620\n",
      "    })\n",
      "})\n",
      "1112570\n"
     ]
    }
   ],
   "source": [
    "print(dataset)\n",
    "print(len(dataset['train']) + len(dataset['test']) + len(dataset['validation']) )"
   ]
  },
  {
   "cell_type": "code",
   "execution_count": 30,
   "metadata": {},
   "outputs": [
    {
     "data": {
      "text/plain": [
       "{'ner_sentence': 'quadrant 3 blue goal south wall currenly 48 boost currently travelling north pressed brakes on ground speed 618 miles per hour',\n",
       " 'ner_tags': [0,\n",
       "  0,\n",
       "  16,\n",
       "  16,\n",
       "  0,\n",
       "  0,\n",
       "  16,\n",
       "  16,\n",
       "  0,\n",
       "  0,\n",
       "  0,\n",
       "  16,\n",
       "  16,\n",
       "  0,\n",
       "  0,\n",
       "  2,\n",
       "  0,\n",
       "  3,\n",
       "  0,\n",
       "  2,\n",
       "  0,\n",
       "  0,\n",
       "  8,\n",
       "  8,\n",
       "  9,\n",
       "  0,\n",
       "  0,\n",
       "  10,\n",
       "  0,\n",
       "  10,\n",
       "  0,\n",
       "  0,\n",
       "  0,\n",
       "  0,\n",
       "  4,\n",
       "  0,\n",
       "  4,\n",
       "  0,\n",
       "  0,\n",
       "  0,\n",
       "  6,\n",
       "  0,\n",
       "  7,\n",
       "  6,\n",
       "  6,\n",
       "  6,\n",
       "  0],\n",
       " 'sentence': \"I'm in quadrant 3 near the blue goal and near the south wall. I currenly have 48 percent boost. I'm currently travelling north. I pressed the brakes. My car is on the ground. My current speed is 618 miles per hour.\",\n",
       " 'state': 'position -188 -4789 17 direction 75 on_ground True is_demoed False ball_touched False boost_amount 48 speed 618 throttle 0 steer 0 jump 1 boost 0 handbrake 1'}"
      ]
     },
     "execution_count": 30,
     "metadata": {},
     "output_type": "execute_result"
    }
   ],
   "source": [
    "dataset['train'][0]"
   ]
  },
  {
   "cell_type": "code",
   "execution_count": null,
   "metadata": {},
   "outputs": [],
   "source": []
  },
  {
   "cell_type": "code",
   "execution_count": null,
   "metadata": {},
   "outputs": [],
   "source": []
  },
  {
   "cell_type": "code",
   "execution_count": null,
   "metadata": {},
   "outputs": [],
   "source": []
  },
  {
   "cell_type": "code",
   "execution_count": null,
   "metadata": {},
   "outputs": [],
   "source": []
  },
  {
   "cell_type": "code",
   "execution_count": null,
   "metadata": {},
   "outputs": [],
   "source": []
  },
  {
   "cell_type": "code",
   "execution_count": null,
   "metadata": {},
   "outputs": [],
   "source": []
  }
 ],
 "metadata": {
  "kernelspec": {
   "display_name": "Python 3",
   "language": "python",
   "name": "python3"
  },
  "language_info": {
   "codemirror_mode": {
    "name": "ipython",
    "version": 3
   },
   "file_extension": ".py",
   "mimetype": "text/x-python",
   "name": "python",
   "nbconvert_exporter": "python",
   "pygments_lexer": "ipython3",
   "version": "3.10.4"
  },
  "orig_nbformat": 4
 },
 "nbformat": 4,
 "nbformat_minor": 2
}
