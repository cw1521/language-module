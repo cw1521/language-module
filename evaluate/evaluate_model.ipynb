{
 "cells": [
  {
   "cell_type": "markdown",
   "metadata": {},
   "source": []
  },
  {
   "cell_type": "code",
   "execution_count": null,
   "metadata": {},
   "outputs": [],
   "source": [
    "pip install transformers[torch] evaluate datasets sacrebleu"
   ]
  },
  {
   "cell_type": "markdown",
   "metadata": {},
   "source": []
  },
  {
   "cell_type": "code",
   "execution_count": null,
   "metadata": {},
   "outputs": [],
   "source": [
    "from os import getcwd\n",
    "from json import load\n",
    "\n",
    "def get_json_from_file(path):\n",
    "    obj = None\n",
    "    with open(path, \"r\") as f:\n",
    "        obj = load(f)\n",
    "    return obj\n",
    "\n",
    "\n",
    "auth_token_path = f\"{getcwd()}\\\\language-module\\\\assets\\\\auth_token.json\"\n",
    "data_files_path = f\"{getcwd()}\\\\language-module\\\\assets\\\\data_files.json\"\n",
    "\n",
    "auth_token = get_json_from_file(auth_token_path)"
   ]
  },
  {
   "cell_type": "markdown",
   "metadata": {},
   "source": []
  },
  {
   "cell_type": "code",
   "execution_count": null,
   "metadata": {},
   "outputs": [],
   "source": [
    "from datasets import load_dataset, load_metric\n",
    "from evaluate import evaluator\n",
    "from transformers import AutoModelForSeq2SeqLM\n",
    "\n",
    "dataset_name = \"cw1521/en-st-small\"\n",
    "\n",
    "dataset = load_dataset(dataset_name)\n",
    "metric = load_metric(\"sacrebleu\")\n",
    "task_evaluator = evaluator(task=\"text2text-generation\", default_metric_name=None)"
   ]
  },
  {
   "cell_type": "markdown",
   "metadata": {},
   "source": []
  },
  {
   "cell_type": "code",
   "execution_count": null,
   "metadata": {},
   "outputs": [],
   "source": []
  },
  {
   "cell_type": "markdown",
   "metadata": {},
   "source": []
  },
  {
   "cell_type": "code",
   "execution_count": null,
   "metadata": {},
   "outputs": [],
   "source": []
  },
  {
   "cell_type": "markdown",
   "metadata": {},
   "source": []
  },
  {
   "cell_type": "code",
   "execution_count": null,
   "metadata": {},
   "outputs": [],
   "source": []
  },
  {
   "cell_type": "markdown",
   "metadata": {},
   "source": []
  },
  {
   "cell_type": "code",
   "execution_count": null,
   "metadata": {},
   "outputs": [],
   "source": []
  },
  {
   "cell_type": "markdown",
   "metadata": {},
   "source": []
  },
  {
   "cell_type": "code",
   "execution_count": null,
   "metadata": {},
   "outputs": [],
   "source": []
  }
 ],
 "metadata": {
  "kernelspec": {
   "display_name": "Python 3",
   "language": "python",
   "name": "python3"
  },
  "language_info": {
   "name": "python",
   "version": "3.10.4"
  },
  "orig_nbformat": 4
 },
 "nbformat": 4,
 "nbformat_minor": 2
}
